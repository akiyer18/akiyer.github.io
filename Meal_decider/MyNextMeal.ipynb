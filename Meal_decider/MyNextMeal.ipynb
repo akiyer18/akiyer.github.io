{
 "cells": [
  {
   "cell_type": "markdown",
   "metadata": {},
   "source": [
    "### My Food Choice\n",
    "This python file takes in an excel sheet which has data of all the food available that i can cook\n",
    "and reads the excel file.\n",
    "I have the option of adding new items. "
   ]
  },
  {
   "cell_type": "markdown",
   "metadata": {},
   "source": []
  },
  {
   "cell_type": "code",
   "execution_count": 2,
   "metadata": {},
   "outputs": [
    {
     "name": "stdout",
     "output_type": "stream",
     "text": [
      "Collecting openpyxl\n",
      "  Downloading openpyxl-3.1.5-py2.py3-none-any.whl.metadata (2.5 kB)\n",
      "Collecting et-xmlfile (from openpyxl)\n",
      "  Downloading et_xmlfile-2.0.0-py3-none-any.whl.metadata (2.7 kB)\n",
      "Downloading openpyxl-3.1.5-py2.py3-none-any.whl (250 kB)\n",
      "Downloading et_xmlfile-2.0.0-py3-none-any.whl (18 kB)\n",
      "Installing collected packages: et-xmlfile, openpyxl\n",
      "Successfully installed et-xmlfile-2.0.0 openpyxl-3.1.5\n"
     ]
    }
   ],
   "source": [
    "!pip3 install openpyxl"
   ]
  },
  {
   "cell_type": "code",
   "execution_count": 3,
   "metadata": {},
   "outputs": [
    {
     "name": "stdout",
     "output_type": "stream",
     "text": [
      "Excel file already exists\n"
     ]
    }
   ],
   "source": [
    "# create an excel file if it doesnt exist already. the excel file should have the following columns - dish_name, ingredients, time_taken, difficulty_level, satisfaction,\n",
    "# and optional recipe column with link to youtube\n",
    "import openpyxl\n",
    "import os\n",
    "def create_excel_file():\n",
    "    if not os.path.exists('recipes.xlsx'):\n",
    "        wb = openpyxl.Workbook()\n",
    "        sheet = wb.active\n",
    "        sheet.title = 'Recipes'\n",
    "        sheet['A1'] = 'Dish Name'\n",
    "        sheet['B1'] = 'Ingredients'\n",
    "        sheet['C1'] = 'Time Taken'\n",
    "        sheet['D1'] = 'Difficulty Level'\n",
    "        sheet['E1'] = 'Satisfaction'\n",
    "        sheet['F1'] = 'Recipe'\n",
    "        wb.save('recipes.xlsx')\n",
    "        print('Excel file created')\n",
    "    else:\n",
    "        print('Excel file already exists')\n",
    "create_excel_file()"
   ]
  },
  {
   "cell_type": "code",
   "execution_count": 7,
   "metadata": {},
   "outputs": [],
   "source": [
    "# the dish should have certain compulsary columns and some optional.\n",
    "# the dish name, time taken, main ingredients should be compulsary.\n",
    "# others are optinal \n",
    "def add_dish():\n",
    "    try:\n",
    "        dish_name = input('Enter dish name: ')\n",
    "        ingredients = input('Enter ingredients: ')\n",
    "        time_taken = input('Enter time taken: ')\n",
    "        difficulty_level = input('Enter difficulty level: ')\n",
    "        if difficulty_level is None:\n",
    "            difficulty_level = ''\n",
    "        elif difficulty_level not in ['easy', 'medium', 'hard']:\n",
    "            raise Exception('Invalid difficulty level')\n",
    "        satisfaction = input('Enter satisfaction: ')\n",
    "        if satisfaction is None:\n",
    "            satisfaction = ''\n",
    "        recipe = input('Enter recipe link: ')\n",
    "        if recipe is None:\n",
    "            recipe = ''\n",
    "        sheet.append([dish_name, ingredients, time_taken, difficulty_level, satisfaction, recipe])\n",
    "        wb.save('recipes.xlsx')\n",
    "        print('Dish added successfully')\n",
    "    except Exception as e:\n",
    "        print('Error adding dish:', e)"
   ]
  },
  {
   "cell_type": "code",
   "execution_count": null,
   "metadata": {},
   "outputs": [
    {
     "ename": "SyntaxError",
     "evalue": "expected '(' (3160864649.py, line 1)",
     "output_type": "error",
     "traceback": [
      "\u001b[0;36m  Cell \u001b[0;32mIn[9], line 1\u001b[0;36m\u001b[0m\n\u001b[0;31m    def recommender:\u001b[0m\n\u001b[0m                   ^\u001b[0m\n\u001b[0;31mSyntaxError\u001b[0m\u001b[0;31m:\u001b[0m expected '('\n"
     ]
    }
   ],
   "source": [
    "def recommender():\n",
    "    # takes in a time which i am willling to give for making the recipe\n",
    "    #  takes in the ingrediens that i have with me\n",
    "    # after getting the ingredients, it will also ask how much satisfaction do i need. this is a filter for just narrowing down the data\n",
    "    # it can also have empty satisfaction levels which will also be shown\n",
    "    time = input('Enter time you are willing to give: ')\n",
    "    ingredients = input('Enter ingredients you have: ')\n",
    "    # process the ingredients as a list of items, seperate the string using commas\n",
    "    ingredients = ingredients.split(',')\n",
    "    satisfaction = input('Enter satisfaction level: ')\n",
    "    if satisfaction is None:\n",
    "        satisfaction = ''\n",
    "    # filter the data based on the time, ingredients and satisfaction level\n",
    "    filtered_data = []\n",
    "    for row in sheet.iter_rows(min_row=2, max_row=sheet.max_row, min_col=1, max_col=6, values_only=True):\n",
    "        if row[2] <= time:\n",
    "            unavailable = []\n",
    "            if i not in \n",
    "\n",
    "    "
   ]
  },
  {
   "cell_type": "code",
   "execution_count": 8,
   "metadata": {},
   "outputs": [
    {
     "name": "stdout",
     "output_type": "stream",
     "text": [
      "Invalid choice\n"
     ]
    }
   ],
   "source": [
    "# a main function that runs a while loop to ask if i want to add a new item to the recipe book or decide on what to have.\n",
    "if __name__ == '__main__':\n",
    "    wb = openpyxl.load_workbook('recipes.xlsx')\n",
    "    sheet = wb.active\n",
    "    while True:\n",
    "        choice = input('Do you want to add a dish(press 1) or decide on what to have(press 2) or see the recipebook(press 3)? :(press q to quit) ')\n",
    "        if choice == '1':\n",
    "            add_dish()\n",
    "        elif choice == '2':\n",
    "            break\n",
    "        elif choice == '3':\n",
    "            wb = openpyxl.load_workbook('recipes.xlsx')\n",
    "            sheet = wb.active\n",
    "            for row in sheet.iter_rows(values_only=True):\n",
    "                print(row)\n",
    "        elif choice == 'q':\n",
    "            break\n",
    "        else:\n",
    "            print('Invalid choice')"
   ]
  },
  {
   "cell_type": "code",
   "execution_count": null,
   "metadata": {},
   "outputs": [],
   "source": []
  }
 ],
 "metadata": {
  "kernelspec": {
   "display_name": "Python 3",
   "language": "python",
   "name": "python3"
  },
  "language_info": {
   "codemirror_mode": {
    "name": "ipython",
    "version": 3
   },
   "file_extension": ".py",
   "mimetype": "text/x-python",
   "name": "python",
   "nbconvert_exporter": "python",
   "pygments_lexer": "ipython3",
   "version": "3.8.0"
  }
 },
 "nbformat": 4,
 "nbformat_minor": 2
}
